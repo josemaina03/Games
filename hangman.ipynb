{
 "cells": [
  {
   "cell_type": "code",
   "execution_count": null,
   "id": "5d3767c5",
   "metadata": {},
   "outputs": [],
   "source": [
    "import random\n",
    "\n",
    "def hangman():\n",
    "    words = ['apple', 'banana', 'cherry', 'date', 'elderberry', 'fig', 'grape']\n",
    "    word = random.choice(words).lower()\n",
    "    guessed_letters = []\n",
    "    attempts = 6\n",
    "    \n",
    "    print(\"Welcome to Hangman!\")\n",
    "    print(\"Try to guess the secret word.\")\n",
    "    \n",
    "    while True:\n",
    "        print(\"\\n\")\n",
    "        display_word = ''\n",
    "        for letter in word:\n",
    "            if letter in guessed_letters:\n",
    "                display_word += letter + ' '\n",
    "            else:\n",
    "                display_word += '_ '\n",
    "        print(display_word)\n",
    "        \n",
    "        if '_' not in display_word:\n",
    "            print(\"Congratulations! You guessed the word.\")\n",
    "            break\n",
    "        \n",
    "        if attempts == 0:\n",
    "            print(\"You're out of attempts. Game over!\")\n",
    "            print(f\"The word was: {word}\")\n",
    "            break\n",
    "        \n",
    "        print(f\"Attempts left: {attempts}\")\n",
    "        guess = input(\"Enter a letter: \").lower()\n",
    "        \n",
    "        if guess in guessed_letters:\n",
    "            print(\"You've already guessed that letter. Try again.\")\n",
    "            continue\n",
    "        \n",
    "        guessed_letters.append(guess)\n",
    "        \n",
    "        if guess in word:\n",
    "            print(\"Correct guess!\")\n",
    "        else:\n",
    "            print(\"Wrong guess!\")\n",
    "            attempts -= 1\n",
    "\n",
    "hangman()\n"
   ]
  },
  {
   "cell_type": "code",
   "execution_count": null,
   "id": "1715405a",
   "metadata": {},
   "outputs": [],
   "source": []
  }
 ],
 "metadata": {
  "kernelspec": {
   "display_name": "Python 3 (ipykernel)",
   "language": "python",
   "name": "python3"
  },
  "language_info": {
   "codemirror_mode": {
    "name": "ipython",
    "version": 3
   },
   "file_extension": ".py",
   "mimetype": "text/x-python",
   "name": "python",
   "nbconvert_exporter": "python",
   "pygments_lexer": "ipython3",
   "version": "3.10.9"
  }
 },
 "nbformat": 4,
 "nbformat_minor": 5
}
