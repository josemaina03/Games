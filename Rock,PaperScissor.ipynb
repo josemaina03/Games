{
 "cells": [
  {
   "cell_type": "code",
   "execution_count": null,
   "id": "e34046e9",
   "metadata": {},
   "outputs": [],
   "source": [
    "import random\n",
    "\n",
    "def rock_paper_scissors():\n",
    "    print(\"Welcome to Rock, Paper, Scissors!\")\n",
    "    print(\"Let's play a game.\")\n",
    "\n",
    "    choices = ['rock', 'paper', 'scissors']\n",
    "\n",
    "    while True:\n",
    "        player_choice = input(\"Choose rock, paper, or scissors: \").lower()\n",
    "\n",
    "        if player_choice not in choices:\n",
    "            print(\"Invalid choice. Please try again.\")\n",
    "            continue\n",
    "\n",
    "        computer_choice = random.choice(choices)\n",
    "\n",
    "        print(f\"\\nYou chose: {player_choice}\")\n",
    "        print(f\"The computer chose: {computer_choice}\")\n",
    "\n",
    "        if player_choice == computer_choice:\n",
    "            print(\"It's a tie!\")\n",
    "        elif (\n",
    "            (player_choice == 'rock' and computer_choice == 'scissors') or\n",
    "            (player_choice == 'paper' and computer_choice == 'rock') or\n",
    "            (player_choice == 'scissors' and computer_choice == 'paper')\n",
    "        ):\n",
    "            print(\"You win!\")\n",
    "        else:\n",
    "            print(\"Computer wins!\")\n",
    "\n",
    "        play_again = input(\"\\nDo you want to play again? (yes/no): \").lower()\n",
    "\n",
    "        if play_again != 'yes':\n",
    "            print(\"Thank you for playing!\")\n",
    "            break\n",
    "\n",
    "rock_paper_scissors()\n"
   ]
  },
  {
   "cell_type": "code",
   "execution_count": null,
   "id": "54231c17",
   "metadata": {},
   "outputs": [],
   "source": []
  }
 ],
 "metadata": {
  "kernelspec": {
   "display_name": "Python 3 (ipykernel)",
   "language": "python",
   "name": "python3"
  },
  "language_info": {
   "codemirror_mode": {
    "name": "ipython",
    "version": 3
   },
   "file_extension": ".py",
   "mimetype": "text/x-python",
   "name": "python",
   "nbconvert_exporter": "python",
   "pygments_lexer": "ipython3",
   "version": "3.10.9"
  }
 },
 "nbformat": 4,
 "nbformat_minor": 5
}
